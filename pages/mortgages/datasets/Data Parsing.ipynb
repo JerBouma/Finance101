{
 "cells": [
  {
   "cell_type": "code",
   "execution_count": 1,
   "metadata": {},
   "outputs": [],
   "source": [
    "import pandas as pd\n",
    "\n",
    "dataset = pd.read_excel(\n",
    "    \"Bijlage-financieringslastnormen-2025-Nibud-2024.xlsx\",\n",
    "    sheet_name=\"nietAOW\",\n",
    "    skiprows=2,\n",
    "    usecols=\"A:M\",\n",
    "    index_col=0,\n",
    ")\n",
    "dataset = dataset.iloc[2:]\n",
    "\n",
    "dataset.columns = [\n",
    "    (round(0.000, 5), round(1.500 / 100, 5)),\n",
    "    (round(1.501 / 100, 5), round(2.000 / 100, 5)),\n",
    "    (round(2.001 / 100, 5), round(2.500 / 100, 5)),\n",
    "    (round(2.501 / 100, 5), round(3.000 / 100, 5)),\n",
    "    (round(3.001 / 100, 5), round(3.500 / 100, 5)),\n",
    "    (round(3.501 / 100, 5), round(4.000 / 100, 5)),\n",
    "    (round(4.001 / 100, 5), round(4.500 / 100, 5)),\n",
    "    (round(4.501 / 100, 5), round(5.000 / 100, 5)),\n",
    "    (round(5.001 / 100, 5), round(5.500 / 100, 5)),\n",
    "    (round(5.501 / 100, 5), round(6.000 / 100, 5)),\n",
    "    (round(6.001 / 100, 5), round(6.500 / 100, 5)),\n",
    "    (round(6.501 / 100, 5), round(10.000 / 100, 5)),\n",
    "]\n",
    "\n",
    "dataset.to_pickle(\"financing_burden_2025.pickle\")"
   ]
  },
  {
   "cell_type": "code",
   "execution_count": 2,
   "metadata": {},
   "outputs": [],
   "source": [
    "# Create a dictionary from the energy labels and their corresponding values\n",
    "energy_labels = {\n",
    "    \"G\": 0,\n",
    "    \"F\": 0,\n",
    "    \"E\": 0,\n",
    "    \"D\": 5000,\n",
    "    \"C\": 5000,\n",
    "    \"B\": 10000,\n",
    "    \"A\": 10000,\n",
    "    \"A+\": 20000,\n",
    "    \"A++\": 20000,\n",
    "    \"A+++\": 30000,\n",
    "    \"A++++\": 40000,\n",
    "    \"A++++ with guarantee\": 50000,\n",
    "}\n",
    "\n",
    "# Convert to a pandas Series\n",
    "energy_label_series = pd.Series(energy_labels)\n",
    "\n",
    "energy_label_series.to_pickle(\"energy_labels.pickle\")"
   ]
  }
 ],
 "metadata": {
  "kernelspec": {
   "display_name": "base",
   "language": "python",
   "name": "python3"
  },
  "language_info": {
   "codemirror_mode": {
    "name": "ipython",
    "version": 3
   },
   "file_extension": ".py",
   "mimetype": "text/x-python",
   "name": "python",
   "nbconvert_exporter": "python",
   "pygments_lexer": "ipython3",
   "version": "3.10.9"
  }
 },
 "nbformat": 4,
 "nbformat_minor": 2
}
